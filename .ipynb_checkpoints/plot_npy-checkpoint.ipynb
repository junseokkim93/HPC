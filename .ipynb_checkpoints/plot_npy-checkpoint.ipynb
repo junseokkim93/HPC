{
 "cells": [
  {
   "cell_type": "code",
   "execution_count": null,
   "metadata": {
    "id": "Afy31uaEifkE"
   },
   "outputs": [],
   "source": [
    "import matplotlib.pyplot as plt\n",
    "import numpy as np\n",
    "import sys\n",
    "import os"
   ]
  },
  {
   "cell_type": "code",
   "execution_count": null,
   "metadata": {
    "id": "mbQZIunoigYE"
   },
   "outputs": [],
   "source": [
    "x,y = (300,300)\n",
    "\n",
    "ux_filename = \"ux_100000.npy\"\n",
    "uy_filename = \"uy_100000.npy\"\n",
    "\n",
    "uy = np.load(ux_filename)\n",
    "ux = np.load(uy_filename)\n",
    "\n",
    "X,Y = np.meshgrid(np.arange(x), np.arange(y))\n",
    "\n",
    "plt.streamplot(X,Y,ux[1:-1][:,1:-1],uy[1:-1][:,1:-1])\n",
    "\n",
    "plt.ylabel(\"y lattice\")\n",
    "plt.xlabel(\"x lattice\")\n",
    "plt.text(Nx/2, Ny + 10, 'Top moving Wall', c = 'b', horizontalalignment='center', verticalalignment=\"top\")\n",
    "plt.text(Nx + 10, Ny/2, 'Right fixed Wall', c = 'k',  horizontalalignment=\"right\", verticalalignment='center', rotation='vertical',)\n",
    "plt.text(0-45, Ny/2, 'Left fixed Wall', c = 'k',  horizontalalignment=\"right\", verticalalignment='center', rotation='vertical',)\n",
    "plt.text(Nx/2, 0 - 10, 'Bottom fixed Wall', c = 'k', horizontalalignment = 'center', verticalalignment=\"bottom\")\n",
    "plt.title(\"The Sliding Lid: flow field\")\n",
    "plt.tight_layout()\n",
    "plt.show()"
   ]
  }
 ],
 "metadata": {
  "colab": {
   "authorship_tag": "ABX9TyNPTCXF3oA8kMsZ59dE8dWq",
   "collapsed_sections": [],
   "name": "plot_npy.ipynb",
   "provenance": []
  },
  "kernelspec": {
   "display_name": "Python 3",
   "language": "python",
   "name": "python3"
  },
  "language_info": {
   "codemirror_mode": {
    "name": "ipython",
    "version": 3
   },
   "file_extension": ".py",
   "mimetype": "text/x-python",
   "name": "python",
   "nbconvert_exporter": "python",
   "pygments_lexer": "ipython3",
   "version": "3.6.8"
  }
 },
 "nbformat": 4,
 "nbformat_minor": 1
}
